{
 "cells": [
  {
   "cell_type": "code",
   "execution_count": null,
   "metadata": {},
   "outputs": [],
   "source": [
    "from . import support\n",
    "import random\n",
    "import time"
   ]
  },
  {
   "cell_type": "code",
   "execution_count": null,
   "metadata": {},
   "outputs": [],
   "source": [
    "class DancingBoy:\n",
    "    def firstMeeting():\n",
    "        support.writeConsole(\"You start watching him, but he quickly stops, evidently self-conscious.\")\n",
    "        support.writeConsole(\"'Hi.' He waits for an answer.\")\n",
    "        support.writeConsole(\"...\", delay = 1)\n",
    "        support.writeConsole(\"He speaks again. 'You don't talk much, do you.\")\n",
    "        support.writeConsole(\"Anyways, I'm kind of glad there's somebody out here. The only human interaction I usually get is when a friend decides to drop by - not a common occurrence, and I can't blame her for that.\")\n",
    "        support.writeConsole(\"Be careful out there - I've been making this area kinder, but there's still a long way to go. There's a library out there I would recommend against entering.'\")\n",
    "        support.globalFlags[\"dancingBoyPhase\"] = 1\n",
    "        return False\n",
    "    def talk():\n",
    "        phase = support.globalFlags[\"dancingBoyPhase\"]\n",
    "        flavor1 = \"I remember when this place was a fantastical town. Now it's just another ruin. '\"\n",
    "        flavor2 = \"If I seem odd, it's because I've been here so long without human company. You should come by more often!'\"\n",
    "        flavor3 = \"I'll help this place get better - despite what people say, it can be redeemed.'\"\n",
    "        flavor4 = \"The people seem to always fall towards the ego. Maybe there's a lesson to be learned from that.'\"\n",
    "        flavor5 = \"I miss my youth.'\"\n",
    "        if support.globalFlags.get(\"returnedConsumableGoods\") is True:\n",
    "            flavor6 = \"Thanks for returning my item to me. I'm don't know how I misplaced it, to be honest.'\"\n",
    "        else:\n",
    "            flavor6 = \"I seem to have misplaced something out there. If you find it, could you return it? I don't know how to describe it, but you'll know it's mine if you find it.'\"\n",
    "        flavor7 = \"I don't really want anyone to go into the room back there. It's quite personal, you see.'\"\n",
    "        flavor8 = \"I won't let anyone see my dance, sorry.'\"\n",
    "        flavorTexts = [flavor1, flavor2, flavor3, flavor4, flavor5, flavor6, flavor7, flavor8]\n",
    "        saying = random.choice(flavorTexts)\n",
    "        if support.globalFlags.get(\"returnedConsumableGoods\"):\n",
    "            saying = \"He looks up questioningly. 'Oh, right, you don't talk. \" + saying\n",
    "        else:\n",
    "            saying = \"He speaks. '\" + saying\n",
    "        support.writeConsole(saying)\n",
    "        return False\n",
    "    def watchChess():\n",
    "        support.writeConsole(\"The girl, upon closer inspection, looks very nearly identical to the boy. Strange world to be in.\")\n",
    "        support.writeConsole(\"The boy, however, is deep in thought, frowning. 'Hmmm....'\")\n",
    "        support.writeConsole(\"...\", delay = 1)\n",
    "        support.writeConsole(\"Wow, he's really bad at chess.\")\n",
    "        time.sleep(1)\n",
    "        support.writeConsole(\"The boy sighs, sticking out his hand to shake. 'It seems that I have seriously misunderstood the point of this game.'\")\n",
    "        support.writeConsole(\"The girl takes his hand somewhat teasingly before rising. She tilts your head at you, nods, and then leaves.\")\n",
    "        support.globalFlags[\"dancingBoyPhase\"] = 1\n",
    "        support.globalFlags[\"finalScene\"] = 2\n",
    "        return False\n",
    "    def wait():\n",
    "        support.writeConsole(\"..?\", delay = 1)\n",
    "        support.writeConsole(\"The boy speaks. 'Oh yeah...you don't talk. This box is what keeps everything outside healthy, and is also the reason this area isn't actively malicious anymore. The box takes care of the land, and I take care of the box.\")\n",
    "\n",
    "class Bob:\n",
    "    def talk():\n",
    "        support.writeConsole(\"hi!\")\n",
    "        return False\n",
    "        \n",
    "class Bob2:\n",
    "    def talk():\n",
    "        support.writeConsole(\"I'm bob2\")\n",
    "        return False"
   ]
  }
 ],
 "metadata": {
  "kernelspec": {
   "display_name": "Python 3 (ipykernel)",
   "language": "python",
   "name": "python3"
  },
  "language_info": {
   "codemirror_mode": {
    "name": "ipython",
    "version": 3
   },
   "file_extension": ".py",
   "mimetype": "text/x-python",
   "name": "python",
   "nbconvert_exporter": "python",
   "pygments_lexer": "ipython3",
   "version": "3.9.0"
  }
 },
 "nbformat": 4,
 "nbformat_minor": 4
}
