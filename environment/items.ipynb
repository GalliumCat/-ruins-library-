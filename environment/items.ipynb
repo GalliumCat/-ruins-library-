{
 "cells": [
  {
   "cell_type": "code",
   "execution_count": null,
   "metadata": {},
   "outputs": [],
   "source": [
    "import import_ipynb\n",
    "from . import support\n",
    "from . import inventory"
   ]
  },
  {
   "cell_type": "code",
   "execution_count": null,
   "metadata": {},
   "outputs": [],
   "source": [
    "class Gun:\n",
    "    def pick():\n",
    "        support.writeConsole(\"You grabbed the gun!\")\n",
    "        support.Inventory.inventory[\"Gun\"] = inventory.Gun\n",
    "        return False\n",
    "\n",
    "class ConsumableGoods:\n",
    "    def pick():\n",
    "        support.writeConsole(\"You pick up the consumable goods. Why are they so weighty?\")\n",
    "        support.Inventory.inventory[\"Consumable Goods\"] = inventory.ConsumableGoods\n",
    "        return False\n",
    "        \n",
    "class ArtisanalContract:\n",
    "    def pick():\n",
    "        support.writeConsole(\"..!\", delay = .66)\n",
    "        support.writeConsole(\"It's a missive. Somehow it's stayed dry for who knows how long, and even more surprisingly, it looks to be completely legible.\")\n",
    "        support.Inventory.inventory[\"Artisanal Contract\"] = inventory.ArtisanalContract\n",
    "        return False\n",
    "        \n",
    "class Book:\n",
    "    def enlightenedPick():\n",
    "        support.writeConsole(\"As you pick it up, grooves in the black book make themselves known by fitting into your fingers.\")\n",
    "        support.Inventory.inventory[\"Black Book\"] = inventory.BlackBook\n",
    "        return False\n",
    "    def unenlightenedPick():\n",
    "        support.writeConsole(\"The book feels...contemptuous, but it does not fight your hands.\")\n",
    "        support.Inventory.inventory[\"White Book\"] = inventory.WhiteBook\n",
    "        return False\n",
    "        \n",
    "class MistmossLeaflet:\n",
    "    def pick():\n",
    "        support.writeConsole(\"The paper wags jolly in the wind until you manage to get your hands on it.\")\n",
    "        support.Inventory.inventory[\"Mistmoss Leaflet\"] = inventory.MistmossLeaflet"
   ]
  }
 ],
 "metadata": {
  "kernelspec": {
   "display_name": "Python 3 (ipykernel)",
   "language": "python",
   "name": "python3"
  },
  "language_info": {
   "codemirror_mode": {
    "name": "ipython",
    "version": 3
   },
   "file_extension": ".py",
   "mimetype": "text/x-python",
   "name": "python",
   "nbconvert_exporter": "python",
   "pygments_lexer": "ipython3",
   "version": "3.9.0"
  }
 },
 "nbformat": 4,
 "nbformat_minor": 4
}
