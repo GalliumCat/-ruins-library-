{
 "cells": [
  {
   "cell_type": "code",
   "execution_count": 1,
   "metadata": {},
   "outputs": [],
   "source": [
    "import time"
   ]
  },
  {
   "cell_type": "code",
   "execution_count": 1,
   "metadata": {},
   "outputs": [],
   "source": [
    "def getIntInput(minInt = float(\"-inf\"), maxInt = float(\"inf\"), consoleChar = \"~\"):\n",
    "    print(consoleChar, end = \"\", flush = True)\n",
    "    string = False\n",
    "    while string is False:\n",
    "        string = checkIntInput(minInt, maxInt, consoleChar)\n",
    "    return string\n",
    "        \n",
    "def checkIntInput(minInt, maxInt, consoleChar):\n",
    "    string = input()\n",
    "    if not string.isnumeric():\n",
    "        return False\n",
    "    num = int(string)\n",
    "    if num < minInt or num > maxInt:\n",
    "        print(consoleChar, end = \"\", flush = True)\n",
    "        return False\n",
    "    return num\n",
    "\n",
    "class Inventory:\n",
    "    inventory = dict()\n",
    "    def getInventory():\n",
    "        return Inventory.inventory\n",
    "\n",
    "globalFlags = dict()"
   ]
  },
  {
   "cell_type": "code",
   "execution_count": null,
   "metadata": {},
   "outputs": [],
   "source": [
    "def writeConsole(string, delay=0.015):\n",
    "    for letter in string:\n",
    "        print(letter, end='', flush = True)\n",
    "        time.sleep(delay)\n",
    "    print()"
   ]
  }
 ],
 "metadata": {
  "kernelspec": {
   "display_name": "Python 3 (ipykernel)",
   "language": "python",
   "name": "python3"
  },
  "language_info": {
   "codemirror_mode": {
    "name": "ipython",
    "version": 3
   },
   "file_extension": ".py",
   "mimetype": "text/x-python",
   "name": "python",
   "nbconvert_exporter": "python",
   "pygments_lexer": "ipython3",
   "version": "3.9.0"
  }
 },
 "nbformat": 4,
 "nbformat_minor": 4
}
